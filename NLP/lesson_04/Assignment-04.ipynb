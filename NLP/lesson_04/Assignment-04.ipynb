{
 "cells": [
  {
   "cell_type": "markdown",
   "source": [
    "## 基于维基百科的词向量构建"
   ],
   "metadata": {
    "collapsed": false,
    "pycharm": {
     "name": "#%% md\n"
    }
   }
  },
  {
   "cell_type": "markdown",
   "source": [
    "- Step 1 Download Wikipedia Chinese Corpus\n",
    "https://dumps.wikimedia.org/zhwiki/20190720/\n",
    "- Step 2 Using [wikipedia extractor]( https://github.com/attardi/wikiextractor) to extract the wikipedia corpus\n",
    "- Step 3 Using [gensim](https://radimrehurek.com/gensim/models/word2vec.html) get word vectors  \n",
    "- Step 4 Using some words to test your performance\n",
    "- Step 5 Using [T-SEN]( https://www.kaggle.com/jeffd23/visualizing-word-vectors-with-t-sne\n",
    ") to visualize words vector"
   ],
   "metadata": {
    "collapsed": false,
    "pycharm": {
     "name": "#%% md\n"
    }
   }
  },
  {
   "cell_type": "code",
   "execution_count": null,
   "outputs": [],
   "source": [
    "\n"
   ],
   "metadata": {
    "collapsed": false,
    "pycharm": {
     "name": "#%%\n"
    }
   }
  }
 ],
 "metadata": {
  "language_info": {
   "codemirror_mode": {
    "name": "ipython",
    "version": 2
   },
   "file_extension": ".py",
   "mimetype": "text/x-python",
   "name": "python",
   "nbconvert_exporter": "python",
   "pygments_lexer": "ipython2",
   "version": "2.7.6"
  },
  "kernelspec": {
   "name": "python3",
   "language": "python",
   "display_name": "Python 3"
  },
  "pycharm": {
   "stem_cell": {
    "cell_type": "raw",
    "source": [],
    "metadata": {
     "collapsed": false
    }
   }
  }
 },
 "nbformat": 4,
 "nbformat_minor": 0
}